{
 "cells": [
  {
   "cell_type": "code",
   "execution_count": 3,
   "id": "99b38a79-51c9-482b-8d7a-1afd24927f54",
   "metadata": {},
   "outputs": [],
   "source": [
    "import pandas as pd\n",
    "import numpy as np\n",
    "\n",
    "import evidently\n",
    "from evidently import ColumnMapping\n",
    "\n",
    "from evidently.test_suite import TestSuite\n",
    "from evidently.test_preset import NoTargetPerformanceTestPreset\n",
    "\n",
    "import shap\n",
    "\n",
    "import joblib"
   ]
  },
  {
   "cell_type": "code",
   "execution_count": 4,
   "id": "41c00313-baf2-430e-b742-6c589d9f2c1b",
   "metadata": {},
   "outputs": [],
   "source": [
    "import warnings\n",
    "warnings.filterwarnings(\"ignore\")\n",
    "warnings.simplefilter(\"ignore\")"
   ]
  },
  {
   "cell_type": "code",
   "execution_count": 5,
   "id": "380b2656-1603-42ca-bf8d-eeb9de5abc76",
   "metadata": {},
   "outputs": [],
   "source": [
    "directory = \"./input/\"\n",
    "df = pd.read_csv(directory + \"application_test.csv\" , encoding = \"ISO-8859-1\", index_col=\"SK_ID_CURR\")"
   ]
  },
  {
   "cell_type": "code",
   "execution_count": null,
   "id": "58fb3dd6-6567-4f0e-b9b6-a0a0ad4f37d6",
   "metadata": {},
   "outputs": [],
   "source": [
    "# df = pd.read_csv(\"../input/data_cleaned.csv\", index_col=\"SK_ID_CURR\")"
   ]
  },
  {
   "cell_type": "code",
   "execution_count": null,
   "id": "ac8d4d04-6c2b-4ef4-afba-8b1abb41dab9",
   "metadata": {},
   "outputs": [],
   "source": []
  },
  {
   "cell_type": "code",
   "execution_count": null,
   "id": "c31b7cb3-aed6-410f-b5ee-c7f5a02cac29",
   "metadata": {},
   "outputs": [],
   "source": []
  }
 ],
 "metadata": {
  "kernelspec": {
   "display_name": "Python 3 (ipykernel)",
   "language": "python",
   "name": "python3"
  },
  "language_info": {
   "codemirror_mode": {
    "name": "ipython",
    "version": 3
   },
   "file_extension": ".py",
   "mimetype": "text/x-python",
   "name": "python",
   "nbconvert_exporter": "python",
   "pygments_lexer": "ipython3",
   "version": "3.11.5"
  }
 },
 "nbformat": 4,
 "nbformat_minor": 5
}
