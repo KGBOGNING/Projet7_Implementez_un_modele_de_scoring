{
 "cells": [
  {
   "cell_type": "markdown",
   "id": "d0063466-7cb0-463f-aafb-1ed9679ab160",
   "metadata": {},
   "source": [
    "# Datadrift Analysis"
   ]
  },
  {
   "cell_type": "markdown",
   "id": "cc129593-101f-4e2c-8cc7-71c5babe203b",
   "metadata": {},
   "source": [
    "## Import des Librairies"
   ]
  },
  {
   "cell_type": "code",
   "execution_count": 46,
   "id": "99b38a79-51c9-482b-8d7a-1afd24927f54",
   "metadata": {},
   "outputs": [],
   "source": [
    "import pandas as pd\n",
    "import numpy as np\n",
    "\n",
    "import evidently\n",
    "from evidently import ColumnMapping\n",
    "\n",
    "from evidently.test_suite import TestSuite\n",
    "from evidently.test_preset import NoTargetPerformanceTestPreset\n",
    "from evidently.metric_preset import DataDriftPreset\n",
    "import shap\n",
    "\n",
    "import pickle\n",
    "from backend import process_2\n",
    "import os"
   ]
  },
  {
   "cell_type": "code",
   "execution_count": 2,
   "id": "dd8cb9c7-abfb-4934-b8f3-7d2e638af192",
   "metadata": {},
   "outputs": [],
   "source": [
    "SEED = 123"
   ]
  },
  {
   "cell_type": "code",
   "execution_count": 3,
   "id": "41c00313-baf2-430e-b742-6c589d9f2c1b",
   "metadata": {},
   "outputs": [],
   "source": [
    "import warnings\n",
    "warnings.filterwarnings(\"ignore\")\n",
    "warnings.simplefilter(\"ignore\")"
   ]
  },
  {
   "cell_type": "markdown",
   "id": "b3b35a83-87c4-4697-b848-f2e96e089061",
   "metadata": {},
   "source": [
    "## Chargement des données et du modèle"
   ]
  },
  {
   "cell_type": "code",
   "execution_count": 4,
   "id": "380b2656-1603-42ca-bf8d-eeb9de5abc76",
   "metadata": {},
   "outputs": [
    {
     "name": "stdout",
     "output_type": "stream",
     "text": [
      "CPU times: total: 5.78 s\n",
      "Wall time: 4.98 s\n"
     ]
    }
   ],
   "source": [
    "%%time\n",
    "train = pd.read_csv(\"application_train_prepro.csv\", index_col=\"SK_ID_CURR\")\n",
    "test = pd.read_csv(\"input/application_test_prepro.csv\",index_col=\"SK_ID_CURR\")"
   ]
  },
  {
   "cell_type": "code",
   "execution_count": 5,
   "id": "d0a7e3fe-d82d-4705-b1c1-04baa3ae1543",
   "metadata": {},
   "outputs": [
    {
     "name": "stdout",
     "output_type": "stream",
     "text": [
      "Train shape (307511, 166)\n",
      "Test shape (48744, 165)\n",
      "CPU times: total: 0 ns\n",
      "Wall time: 1.26 ms\n"
     ]
    },
    {
     "data": {
      "text/html": [
       "<div>\n",
       "<style scoped>\n",
       "    .dataframe tbody tr th:only-of-type {\n",
       "        vertical-align: middle;\n",
       "    }\n",
       "\n",
       "    .dataframe tbody tr th {\n",
       "        vertical-align: top;\n",
       "    }\n",
       "\n",
       "    .dataframe thead th {\n",
       "        text-align: right;\n",
       "    }\n",
       "</style>\n",
       "<table border=\"1\" class=\"dataframe\">\n",
       "  <thead>\n",
       "    <tr style=\"text-align: right;\">\n",
       "      <th></th>\n",
       "      <th>TARGET</th>\n",
       "      <th>NAME_CONTRACT_TYPE</th>\n",
       "      <th>CODE_GENDER</th>\n",
       "      <th>FLAG_OWN_CAR</th>\n",
       "      <th>FLAG_OWN_REALTY</th>\n",
       "      <th>CNT_CHILDREN</th>\n",
       "      <th>AMT_INCOME_TOTAL</th>\n",
       "      <th>AMT_CREDIT</th>\n",
       "      <th>AMT_ANNUITY</th>\n",
       "      <th>AMT_GOODS_PRICE</th>\n",
       "      <th>...</th>\n",
       "      <th>mean_DAYS_CREDIT_ENDDATE</th>\n",
       "      <th>mean_DAYS_ENDDATE_FACT</th>\n",
       "      <th>mean_AMT_CREDIT_MAX_OVERDUE</th>\n",
       "      <th>mean_CNT_CREDIT_PROLONG</th>\n",
       "      <th>mean_AMT_CREDIT_SUM</th>\n",
       "      <th>mean_AMT_CREDIT_SUM_DEBT</th>\n",
       "      <th>mean_AMT_CREDIT_SUM_LIMIT</th>\n",
       "      <th>mean_AMT_CREDIT_SUM_OVERDUE</th>\n",
       "      <th>mode_CREDIT_TYPE</th>\n",
       "      <th>mean_DAYS_CREDIT_UPDATE</th>\n",
       "    </tr>\n",
       "  </thead>\n",
       "  <tbody>\n",
       "    <tr>\n",
       "      <th>0</th>\n",
       "      <td>1</td>\n",
       "      <td>Cash loans</td>\n",
       "      <td>M</td>\n",
       "      <td>N</td>\n",
       "      <td>Y</td>\n",
       "      <td>0</td>\n",
       "      <td>202500.0</td>\n",
       "      <td>406597.5</td>\n",
       "      <td>24700.5</td>\n",
       "      <td>351000.0</td>\n",
       "      <td>...</td>\n",
       "      <td>-452.8</td>\n",
       "      <td>-808.4</td>\n",
       "      <td>1312.0</td>\n",
       "      <td>0.0</td>\n",
       "      <td>111388.8</td>\n",
       "      <td>70223.1</td>\n",
       "      <td>3198.9</td>\n",
       "      <td>0.0</td>\n",
       "      <td>Credit card</td>\n",
       "      <td>-632.0</td>\n",
       "    </tr>\n",
       "    <tr>\n",
       "      <th>1</th>\n",
       "      <td>0</td>\n",
       "      <td>Cash loans</td>\n",
       "      <td>F</td>\n",
       "      <td>N</td>\n",
       "      <td>N</td>\n",
       "      <td>0</td>\n",
       "      <td>270000.0</td>\n",
       "      <td>1293502.5</td>\n",
       "      <td>35698.5</td>\n",
       "      <td>1129500.0</td>\n",
       "      <td>...</td>\n",
       "      <td>-544.5</td>\n",
       "      <td>-1097.3</td>\n",
       "      <td>0.0</td>\n",
       "      <td>0.0</td>\n",
       "      <td>254350.1</td>\n",
       "      <td>0.0</td>\n",
       "      <td>202500.0</td>\n",
       "      <td>0.0</td>\n",
       "      <td>Credit card</td>\n",
       "      <td>-472.2</td>\n",
       "    </tr>\n",
       "    <tr>\n",
       "      <th>2</th>\n",
       "      <td>0</td>\n",
       "      <td>Revolving loans</td>\n",
       "      <td>M</td>\n",
       "      <td>Y</td>\n",
       "      <td>Y</td>\n",
       "      <td>0</td>\n",
       "      <td>67500.0</td>\n",
       "      <td>135000.0</td>\n",
       "      <td>6750.0</td>\n",
       "      <td>135000.0</td>\n",
       "      <td>...</td>\n",
       "      <td>-488.5</td>\n",
       "      <td>-532.5</td>\n",
       "      <td>0.0</td>\n",
       "      <td>0.0</td>\n",
       "      <td>94518.9</td>\n",
       "      <td>0.0</td>\n",
       "      <td>0.0</td>\n",
       "      <td>0.0</td>\n",
       "      <td>Consumer credit</td>\n",
       "      <td>-532.0</td>\n",
       "    </tr>\n",
       "    <tr>\n",
       "      <th>3</th>\n",
       "      <td>0</td>\n",
       "      <td>Cash loans</td>\n",
       "      <td>F</td>\n",
       "      <td>N</td>\n",
       "      <td>Y</td>\n",
       "      <td>0</td>\n",
       "      <td>135000.0</td>\n",
       "      <td>312682.5</td>\n",
       "      <td>29686.5</td>\n",
       "      <td>297000.0</td>\n",
       "      <td>...</td>\n",
       "      <td>NaN</td>\n",
       "      <td>NaN</td>\n",
       "      <td>NaN</td>\n",
       "      <td>NaN</td>\n",
       "      <td>NaN</td>\n",
       "      <td>NaN</td>\n",
       "      <td>NaN</td>\n",
       "      <td>NaN</td>\n",
       "      <td>NaN</td>\n",
       "      <td>NaN</td>\n",
       "    </tr>\n",
       "    <tr>\n",
       "      <th>4</th>\n",
       "      <td>0</td>\n",
       "      <td>Cash loans</td>\n",
       "      <td>M</td>\n",
       "      <td>N</td>\n",
       "      <td>Y</td>\n",
       "      <td>0</td>\n",
       "      <td>121500.0</td>\n",
       "      <td>513000.0</td>\n",
       "      <td>21865.5</td>\n",
       "      <td>513000.0</td>\n",
       "      <td>...</td>\n",
       "      <td>-783.0</td>\n",
       "      <td>-783.0</td>\n",
       "      <td>0.0</td>\n",
       "      <td>0.0</td>\n",
       "      <td>146250.0</td>\n",
       "      <td>0.0</td>\n",
       "      <td>0.0</td>\n",
       "      <td>0.0</td>\n",
       "      <td>Consumer credit</td>\n",
       "      <td>-783.0</td>\n",
       "    </tr>\n",
       "  </tbody>\n",
       "</table>\n",
       "<p>5 rows × 166 columns</p>\n",
       "</div>"
      ],
      "text/plain": [
       "   TARGET NAME_CONTRACT_TYPE CODE_GENDER FLAG_OWN_CAR FLAG_OWN_REALTY  \\\n",
       "0       1         Cash loans           M            N               Y   \n",
       "1       0         Cash loans           F            N               N   \n",
       "2       0    Revolving loans           M            Y               Y   \n",
       "3       0         Cash loans           F            N               Y   \n",
       "4       0         Cash loans           M            N               Y   \n",
       "\n",
       "   CNT_CHILDREN  AMT_INCOME_TOTAL  AMT_CREDIT  AMT_ANNUITY  AMT_GOODS_PRICE  \\\n",
       "0             0          202500.0    406597.5      24700.5         351000.0   \n",
       "1             0          270000.0   1293502.5      35698.5        1129500.0   \n",
       "2             0           67500.0    135000.0       6750.0         135000.0   \n",
       "3             0          135000.0    312682.5      29686.5         297000.0   \n",
       "4             0          121500.0    513000.0      21865.5         513000.0   \n",
       "\n",
       "   ... mean_DAYS_CREDIT_ENDDATE mean_DAYS_ENDDATE_FACT  \\\n",
       "0  ...                   -452.8                 -808.4   \n",
       "1  ...                   -544.5                -1097.3   \n",
       "2  ...                   -488.5                 -532.5   \n",
       "3  ...                      NaN                    NaN   \n",
       "4  ...                   -783.0                 -783.0   \n",
       "\n",
       "  mean_AMT_CREDIT_MAX_OVERDUE mean_CNT_CREDIT_PROLONG mean_AMT_CREDIT_SUM  \\\n",
       "0                      1312.0                     0.0            111388.8   \n",
       "1                         0.0                     0.0            254350.1   \n",
       "2                         0.0                     0.0             94518.9   \n",
       "3                         NaN                     NaN                 NaN   \n",
       "4                         0.0                     0.0            146250.0   \n",
       "\n",
       "   mean_AMT_CREDIT_SUM_DEBT  mean_AMT_CREDIT_SUM_LIMIT  \\\n",
       "0                   70223.1                     3198.9   \n",
       "1                       0.0                   202500.0   \n",
       "2                       0.0                        0.0   \n",
       "3                       NaN                        NaN   \n",
       "4                       0.0                        0.0   \n",
       "\n",
       "   mean_AMT_CREDIT_SUM_OVERDUE  mode_CREDIT_TYPE  mean_DAYS_CREDIT_UPDATE  \n",
       "0                          0.0       Credit card                   -632.0  \n",
       "1                          0.0       Credit card                   -472.2  \n",
       "2                          0.0   Consumer credit                   -532.0  \n",
       "3                          NaN               NaN                      NaN  \n",
       "4                          0.0   Consumer credit                   -783.0  \n",
       "\n",
       "[5 rows x 166 columns]"
      ]
     },
     "execution_count": 5,
     "metadata": {},
     "output_type": "execute_result"
    }
   ],
   "source": [
    "%%time\n",
    "train.reset_index(drop=True, inplace=True)\n",
    "test.reset_index(drop=True, inplace=True)\n",
    "print('Train shape',train.shape)\n",
    "print('Test shape',test.shape)\n",
    "train.head()"
   ]
  },
  {
   "cell_type": "code",
   "execution_count": 6,
   "id": "59f51b03-a18c-4d02-b22b-df89edf1d9e2",
   "metadata": {},
   "outputs": [],
   "source": [
    "save_dir = 'obj_save/'\n",
    "objects_to_save = [\"model\", \"_scaler\", \"_impute\", \"_le\", \"feature_le_encoded\", \"_ohe\"]"
   ]
  },
  {
   "cell_type": "code",
   "execution_count": 7,
   "id": "c42ebabf-4b36-4d28-812f-bc4dfa65f0f3",
   "metadata": {},
   "outputs": [],
   "source": [
    "# Dictionnaire pour charger les objets sauvegardés\n",
    "loaded_objects = {}\n",
    "\n",
    "# Chargement des objets à partir des fichiers\n",
    "for key in objects_to_save:\n",
    "    with open(os.path.join(save_dir, f\"{key}.pkl\"), \"rb\") as read_file:\n",
    "        loaded_objects[key] = pickle.load(read_file)"
   ]
  },
  {
   "cell_type": "code",
   "execution_count": 8,
   "id": "fed2496a-024e-418a-8313-0f1bbb1a60a9",
   "metadata": {},
   "outputs": [],
   "source": [
    "feature_le_encoded = loaded_objects[\"feature_le_encoded\"]\n",
    "loaded_model = loaded_objects[\"model\"]"
   ]
  },
  {
   "cell_type": "code",
   "execution_count": 9,
   "id": "8e6dc3cb-587f-44e1-8a45-b2bba1b9142b",
   "metadata": {},
   "outputs": [
    {
     "name": "stdout",
     "output_type": "stream",
     "text": [
      "CPU times: total: 2min 19s\n",
      "Wall time: 2min 21s\n"
     ]
    }
   ],
   "source": [
    "%%time\n",
    "train_preprocess = process_2(train.drop(['TARGET'], axis=1), var=feature_le_encoded)"
   ]
  },
  {
   "cell_type": "code",
   "execution_count": 10,
   "id": "9fbcb4cd-70ac-40bc-acf6-773b4009c906",
   "metadata": {},
   "outputs": [
    {
     "name": "stdout",
     "output_type": "stream",
     "text": [
      "CPU times: total: 18.8 s\n",
      "Wall time: 19.4 s\n"
     ]
    }
   ],
   "source": [
    "%%time\n",
    "test_preprocess = process_2(test, var=feature_le_encoded)"
   ]
  },
  {
   "cell_type": "markdown",
   "id": "0111bd14-6993-4bd8-b67f-89c127501e40",
   "metadata": {},
   "source": [
    "## Prediction dans le set Train et Test"
   ]
  },
  {
   "cell_type": "code",
   "execution_count": 11,
   "id": "7637d719-ab9f-425b-9cf7-0bdad32c9ec5",
   "metadata": {},
   "outputs": [
    {
     "name": "stdout",
     "output_type": "stream",
     "text": [
      "CPU times: total: 2.86 s\n",
      "Wall time: 1.35 s\n"
     ]
    }
   ],
   "source": [
    "%%time\n",
    "train_preprocess['prediction']= loaded_model.predict(train_preprocess)"
   ]
  },
  {
   "cell_type": "code",
   "execution_count": 12,
   "id": "3ab30d01-2d24-49b9-be05-a7348caa8c62",
   "metadata": {},
   "outputs": [
    {
     "name": "stdout",
     "output_type": "stream",
     "text": [
      "CPU times: total: 406 ms\n",
      "Wall time: 176 ms\n"
     ]
    }
   ],
   "source": [
    "%%time\n",
    "test_preprocess['prediction']= loaded_model.predict(test_preprocess)"
   ]
  },
  {
   "cell_type": "markdown",
   "id": "c552e66e-62f0-48a2-8c23-d358cb85fa45",
   "metadata": {},
   "source": [
    "## Selection des features déterminants dans l'evolution du modèle"
   ]
  },
  {
   "cell_type": "code",
   "execution_count": 14,
   "id": "148b8e92-9258-494d-a658-93e0bf91c454",
   "metadata": {},
   "outputs": [
    {
     "data": {
      "image/png": "[encoded data removed]",
      "text/plain": [
       "<Figure size 800x1150 with 2 Axes>"
      ]
     },
     "metadata": {},
     "output_type": "display_data"
    },
    {
     "name": "stdout",
     "output_type": "stream",
     "text": [
      "CPU times: total: 2min 40s\n",
      "Wall time: 55.6 s\n"
     ]
    }
   ],
   "source": [
    "%%time\n",
    "# Explain model predictions using shap library:\n",
    "explainer = shap.Explainer(loaded_model)\n",
    "shap_values = explainer.shap_values(train_preprocess.drop(['prediction'], axis=1))\n",
    "\n",
    "# Plot summary_plot and capture the output\n",
    "summary_plot = shap.summary_plot(shap_values[1],train_preprocess.drop(['prediction'], axis=1), max_display=25, show=True)"
   ]
  },
  {
   "cell_type": "code",
   "execution_count": 16,
   "id": "ea05a686-0ac1-49af-8c2e-88fa4daa0078",
   "metadata": {},
   "outputs": [
    {
     "name": "stdout",
     "output_type": "stream",
     "text": [
      "Top 25 features les plus importantes:\n",
      "\n",
      "['EXT_SOURCE_2', 'EXT_SOURCE_3', 'EXT_SOURCE_1', 'TERM', 'DAYS_EMPLOYED', 'CODE_GENDER', 'NAME_EDUCATION_TYPE_Higher education', 'DAYS_FIRST_DRAWING', 'AMT_ANNUITY', 'OVER_EXPECT_CREDIT', 'DAYS_BIRTH', 'AMT_PAYMENT', 'CNT_PAYMENT', 'FLAG_OWN_CAR', 'mean_AMT_CREDIT_SUM_DEBT', 'SELLERPLACE_AREA', 'AMT_GOODS_PRICE', 'NAME_INCOME_TYPE_Working', 'mode_CREDIT_ACTIVE_Closed', 'mean_AMT_CREDIT_MAX_OVERDUE', 'NAME_FAMILY_STATUS_Married', 'FLAG_DOCUMENT_3', 'NAME_CONTRACT_STATUS_Refused', 'DAYS_ID_PUBLISH', 'mean_DAYS_CREDIT']\n"
     ]
    }
   ],
   "source": [
    "# Obtenir les valeurs SHAP absolues moyennes pour chaque feature\n",
    "mean_abs_shap_values = np.abs(shap_values[1]).mean(axis=0)\n",
    "\n",
    "# Créer un DataFrame pour stocker les noms de features et leurs valeurs SHAP moyennes absolues\n",
    "feature_importance = pd.DataFrame({\n",
    "    'Feature': train_preprocess.drop(['prediction'], axis=1).columns,\n",
    "    'Mean Absolute SHAP Value': mean_abs_shap_values\n",
    "})\n",
    "\n",
    "# Trier le DataFrame par valeurs SHAP absolues moyennes en ordre décroissant\n",
    "feature_importance= feature_importance.sort_values(by='Mean Absolute SHAP Value', ascending=False)\n",
    "\n",
    "# Extraire les 25 premières features les plus importantes\n",
    "top_features = feature_importance.head(25)['Feature'].tolist()\n",
    "\n",
    "# Afficher la liste des 25 features les plus importantes\n",
    "print(\"Top 25 features les plus importantes:\\n\")\n",
    "print(top_features)"
   ]
  },
  {
   "cell_type": "markdown",
   "id": "45b81b22-3756-4d1b-9970-eff436598f4c",
   "metadata": {},
   "source": [
    "## Report"
   ]
  },
  {
   "cell_type": "markdown",
   "id": "0a416cbc-50fd-4ad4-915e-c7e08df126cf",
   "metadata": {},
   "source": [
    "### Construction des Dataframes de report"
   ]
  },
  {
   "cell_type": "code",
   "execution_count": 19,
   "id": "081adb83-8cef-45db-bed2-272b800f32b1",
   "metadata": {},
   "outputs": [
    {
     "name": "stdout",
     "output_type": "stream",
     "text": [
      "CPU times: total: 1.42 s\n",
      "Wall time: 1.46 s\n"
     ]
    },
    {
     "data": {
      "text/html": [
       "<div>\n",
       "<style scoped>\n",
       "    .dataframe tbody tr th:only-of-type {\n",
       "        vertical-align: middle;\n",
       "    }\n",
       "\n",
       "    .dataframe tbody tr th {\n",
       "        vertical-align: top;\n",
       "    }\n",
       "\n",
       "    .dataframe thead th {\n",
       "        text-align: right;\n",
       "    }\n",
       "</style>\n",
       "<table border=\"1\" class=\"dataframe\">\n",
       "  <thead>\n",
       "    <tr style=\"text-align: right;\">\n",
       "      <th></th>\n",
       "      <th>EXT_SOURCE_2</th>\n",
       "      <th>EXT_SOURCE_3</th>\n",
       "      <th>EXT_SOURCE_1</th>\n",
       "      <th>TERM</th>\n",
       "      <th>DAYS_EMPLOYED</th>\n",
       "      <th>CODE_GENDER</th>\n",
       "      <th>NAME_EDUCATION_TYPE_Higher education</th>\n",
       "      <th>DAYS_FIRST_DRAWING</th>\n",
       "      <th>AMT_ANNUITY</th>\n",
       "      <th>OVER_EXPECT_CREDIT</th>\n",
       "      <th>...</th>\n",
       "      <th>AMT_GOODS_PRICE</th>\n",
       "      <th>NAME_INCOME_TYPE_Working</th>\n",
       "      <th>mode_CREDIT_ACTIVE_Closed</th>\n",
       "      <th>mean_AMT_CREDIT_MAX_OVERDUE</th>\n",
       "      <th>NAME_FAMILY_STATUS_Married</th>\n",
       "      <th>FLAG_DOCUMENT_3</th>\n",
       "      <th>NAME_CONTRACT_STATUS_Refused</th>\n",
       "      <th>DAYS_ID_PUBLISH</th>\n",
       "      <th>mean_DAYS_CREDIT</th>\n",
       "      <th>prediction</th>\n",
       "    </tr>\n",
       "  </thead>\n",
       "  <tbody>\n",
       "    <tr>\n",
       "      <th>0</th>\n",
       "      <td>0.307542</td>\n",
       "      <td>0.155054</td>\n",
       "      <td>0.072215</td>\n",
       "      <td>0.226047</td>\n",
       "      <td>0.964437</td>\n",
       "      <td>1.0</td>\n",
       "      <td>0.0</td>\n",
       "      <td>1.0</td>\n",
       "      <td>0.090032</td>\n",
       "      <td>1.0</td>\n",
       "      <td>...</td>\n",
       "      <td>0.077441</td>\n",
       "      <td>1.0</td>\n",
       "      <td>1.0</td>\n",
       "      <td>0.000011</td>\n",
       "      <td>0.0</td>\n",
       "      <td>1.0</td>\n",
       "      <td>0.0</td>\n",
       "      <td>0.705433</td>\n",
       "      <td>0.658795</td>\n",
       "      <td>1</td>\n",
       "    </tr>\n",
       "    <tr>\n",
       "      <th>1</th>\n",
       "      <td>0.727773</td>\n",
       "      <td>0.597163</td>\n",
       "      <td>0.312933</td>\n",
       "      <td>0.756604</td>\n",
       "      <td>0.933676</td>\n",
       "      <td>0.0</td>\n",
       "      <td>1.0</td>\n",
       "      <td>1.0</td>\n",
       "      <td>0.132924</td>\n",
       "      <td>1.0</td>\n",
       "      <td>...</td>\n",
       "      <td>0.271605</td>\n",
       "      <td>0.0</td>\n",
       "      <td>1.0</td>\n",
       "      <td>0.000000</td>\n",
       "      <td>1.0</td>\n",
       "      <td>1.0</td>\n",
       "      <td>0.0</td>\n",
       "      <td>0.959566</td>\n",
       "      <td>0.520534</td>\n",
       "      <td>0</td>\n",
       "    </tr>\n",
       "    <tr>\n",
       "      <th>2</th>\n",
       "      <td>0.650190</td>\n",
       "      <td>0.814130</td>\n",
       "      <td>0.518318</td>\n",
       "      <td>0.321005</td>\n",
       "      <td>0.987439</td>\n",
       "      <td>1.0</td>\n",
       "      <td>0.0</td>\n",
       "      <td>1.0</td>\n",
       "      <td>0.020025</td>\n",
       "      <td>0.0</td>\n",
       "      <td>...</td>\n",
       "      <td>0.023569</td>\n",
       "      <td>1.0</td>\n",
       "      <td>1.0</td>\n",
       "      <td>0.000000</td>\n",
       "      <td>0.0</td>\n",
       "      <td>0.0</td>\n",
       "      <td>0.0</td>\n",
       "      <td>0.648326</td>\n",
       "      <td>0.703285</td>\n",
       "      <td>0</td>\n",
       "    </tr>\n",
       "    <tr>\n",
       "      <th>3</th>\n",
       "      <td>0.760751</td>\n",
       "      <td>0.597163</td>\n",
       "      <td>0.518318</td>\n",
       "      <td>0.066977</td>\n",
       "      <td>0.830337</td>\n",
       "      <td>0.0</td>\n",
       "      <td>0.0</td>\n",
       "      <td>1.0</td>\n",
       "      <td>0.109477</td>\n",
       "      <td>1.0</td>\n",
       "      <td>...</td>\n",
       "      <td>0.063973</td>\n",
       "      <td>1.0</td>\n",
       "      <td>0.0</td>\n",
       "      <td>0.000000</td>\n",
       "      <td>0.0</td>\n",
       "      <td>1.0</td>\n",
       "      <td>0.0</td>\n",
       "      <td>0.661387</td>\n",
       "      <td>0.618070</td>\n",
       "      <td>0</td>\n",
       "    </tr>\n",
       "    <tr>\n",
       "      <th>4</th>\n",
       "      <td>0.377472</td>\n",
       "      <td>0.597163</td>\n",
       "      <td>0.518318</td>\n",
       "      <td>0.413888</td>\n",
       "      <td>0.830393</td>\n",
       "      <td>1.0</td>\n",
       "      <td>0.0</td>\n",
       "      <td>1.0</td>\n",
       "      <td>0.078975</td>\n",
       "      <td>0.0</td>\n",
       "      <td>...</td>\n",
       "      <td>0.117845</td>\n",
       "      <td>1.0</td>\n",
       "      <td>1.0</td>\n",
       "      <td>0.000000</td>\n",
       "      <td>0.0</td>\n",
       "      <td>0.0</td>\n",
       "      <td>0.0</td>\n",
       "      <td>0.519522</td>\n",
       "      <td>0.606776</td>\n",
       "      <td>0</td>\n",
       "    </tr>\n",
       "  </tbody>\n",
       "</table>\n",
       "<p>5 rows × 26 columns</p>\n",
       "</div>"
      ],
      "text/plain": [
       "   EXT_SOURCE_2  EXT_SOURCE_3  EXT_SOURCE_1      TERM  DAYS_EMPLOYED  \\\n",
       "0      0.307542      0.155054      0.072215  0.226047       0.964437   \n",
       "1      0.727773      0.597163      0.312933  0.756604       0.933676   \n",
       "2      0.650190      0.814130      0.518318  0.321005       0.987439   \n",
       "3      0.760751      0.597163      0.518318  0.066977       0.830337   \n",
       "4      0.377472      0.597163      0.518318  0.413888       0.830393   \n",
       "\n",
       "   CODE_GENDER  NAME_EDUCATION_TYPE_Higher education  DAYS_FIRST_DRAWING  \\\n",
       "0          1.0                                   0.0                 1.0   \n",
       "1          0.0                                   1.0                 1.0   \n",
       "2          1.0                                   0.0                 1.0   \n",
       "3          0.0                                   0.0                 1.0   \n",
       "4          1.0                                   0.0                 1.0   \n",
       "\n",
       "   AMT_ANNUITY  OVER_EXPECT_CREDIT  ...  AMT_GOODS_PRICE  \\\n",
       "0     0.090032                 1.0  ...         0.077441   \n",
       "1     0.132924                 1.0  ...         0.271605   \n",
       "2     0.020025                 0.0  ...         0.023569   \n",
       "3     0.109477                 1.0  ...         0.063973   \n",
       "4     0.078975                 0.0  ...         0.117845   \n",
       "\n",
       "   NAME_INCOME_TYPE_Working  mode_CREDIT_ACTIVE_Closed  \\\n",
       "0                       1.0                        1.0   \n",
       "1                       0.0                        1.0   \n",
       "2                       1.0                        1.0   \n",
       "3                       1.0                        0.0   \n",
       "4                       1.0                        1.0   \n",
       "\n",
       "   mean_AMT_CREDIT_MAX_OVERDUE  NAME_FAMILY_STATUS_Married  FLAG_DOCUMENT_3  \\\n",
       "0                     0.000011                         0.0              1.0   \n",
       "1                     0.000000                         1.0              1.0   \n",
       "2                     0.000000                         0.0              0.0   \n",
       "3                     0.000000                         0.0              1.0   \n",
       "4                     0.000000                         0.0              0.0   \n",
       "\n",
       "   NAME_CONTRACT_STATUS_Refused  DAYS_ID_PUBLISH  mean_DAYS_CREDIT  prediction  \n",
       "0                           0.0         0.705433          0.658795           1  \n",
       "1                           0.0         0.959566          0.520534           0  \n",
       "2                           0.0         0.648326          0.703285           0  \n",
       "3                           0.0         0.661387          0.618070           0  \n",
       "4                           0.0         0.519522          0.606776           0  \n",
       "\n",
       "[5 rows x 26 columns]"
      ]
     },
     "execution_count": 19,
     "metadata": {},
     "output_type": "execute_result"
    }
   ],
   "source": [
    "%%time\n",
    "train_report = train_preprocess[top_features+['prediction']]\n",
    "train_report.head()"
   ]
  },
  {
   "cell_type": "code",
   "execution_count": 20,
   "id": "79e95122-a82e-4c64-b3fd-5529436fb36b",
   "metadata": {},
   "outputs": [
    {
     "name": "stdout",
     "output_type": "stream",
     "text": [
      "CPU times: total: 188 ms\n",
      "Wall time: 345 ms\n"
     ]
    },
    {
     "data": {
      "text/html": [
       "<div>\n",
       "<style scoped>\n",
       "    .dataframe tbody tr th:only-of-type {\n",
       "        vertical-align: middle;\n",
       "    }\n",
       "\n",
       "    .dataframe tbody tr th {\n",
       "        vertical-align: top;\n",
       "    }\n",
       "\n",
       "    .dataframe thead th {\n",
       "        text-align: right;\n",
       "    }\n",
       "</style>\n",
       "<table border=\"1\" class=\"dataframe\">\n",
       "  <thead>\n",
       "    <tr style=\"text-align: right;\">\n",
       "      <th></th>\n",
       "      <th>EXT_SOURCE_2</th>\n",
       "      <th>EXT_SOURCE_3</th>\n",
       "      <th>EXT_SOURCE_1</th>\n",
       "      <th>TERM</th>\n",
       "      <th>DAYS_EMPLOYED</th>\n",
       "      <th>CODE_GENDER</th>\n",
       "      <th>NAME_EDUCATION_TYPE_Higher education</th>\n",
       "      <th>DAYS_FIRST_DRAWING</th>\n",
       "      <th>AMT_ANNUITY</th>\n",
       "      <th>OVER_EXPECT_CREDIT</th>\n",
       "      <th>...</th>\n",
       "      <th>AMT_GOODS_PRICE</th>\n",
       "      <th>NAME_INCOME_TYPE_Working</th>\n",
       "      <th>mode_CREDIT_ACTIVE_Closed</th>\n",
       "      <th>mean_AMT_CREDIT_MAX_OVERDUE</th>\n",
       "      <th>NAME_FAMILY_STATUS_Married</th>\n",
       "      <th>FLAG_DOCUMENT_3</th>\n",
       "      <th>NAME_CONTRACT_STATUS_Refused</th>\n",
       "      <th>DAYS_ID_PUBLISH</th>\n",
       "      <th>mean_DAYS_CREDIT</th>\n",
       "      <th>prediction</th>\n",
       "    </tr>\n",
       "  </thead>\n",
       "  <tbody>\n",
       "    <tr>\n",
       "      <th>0</th>\n",
       "      <td>0.923573</td>\n",
       "      <td>0.177549</td>\n",
       "      <td>0.778428</td>\n",
       "      <td>0.526667</td>\n",
       "      <td>0.869975</td>\n",
       "      <td>0.0</td>\n",
       "      <td>1.0</td>\n",
       "      <td>1.000000</td>\n",
       "      <td>0.073886</td>\n",
       "      <td>1.0</td>\n",
       "      <td>...</td>\n",
       "      <td>0.102132</td>\n",
       "      <td>1.0</td>\n",
       "      <td>1.0</td>\n",
       "      <td>0.000000</td>\n",
       "      <td>1.0</td>\n",
       "      <td>1.0</td>\n",
       "      <td>0.0</td>\n",
       "      <td>0.887175</td>\n",
       "      <td>0.654689</td>\n",
       "      <td>0</td>\n",
       "    </tr>\n",
       "    <tr>\n",
       "      <th>1</th>\n",
       "      <td>0.341118</td>\n",
       "      <td>0.482907</td>\n",
       "      <td>0.580538</td>\n",
       "      <td>0.128479</td>\n",
       "      <td>0.750502</td>\n",
       "      <td>1.0</td>\n",
       "      <td>0.0</td>\n",
       "      <td>1.000000</td>\n",
       "      <td>0.061443</td>\n",
       "      <td>1.0</td>\n",
       "      <td>...</td>\n",
       "      <td>0.034792</td>\n",
       "      <td>1.0</td>\n",
       "      <td>1.0</td>\n",
       "      <td>0.000000</td>\n",
       "      <td>1.0</td>\n",
       "      <td>1.0</td>\n",
       "      <td>0.0</td>\n",
       "      <td>0.774489</td>\n",
       "      <td>0.906913</td>\n",
       "      <td>0</td>\n",
       "    </tr>\n",
       "    <tr>\n",
       "      <th>2</th>\n",
       "      <td>0.818464</td>\n",
       "      <td>0.681715</td>\n",
       "      <td>0.518318</td>\n",
       "      <td>0.039412</td>\n",
       "      <td>0.751117</td>\n",
       "      <td>1.0</td>\n",
       "      <td>1.0</td>\n",
       "      <td>1.000000</td>\n",
       "      <td>0.265830</td>\n",
       "      <td>1.0</td>\n",
       "      <td>...</td>\n",
       "      <td>0.147026</td>\n",
       "      <td>1.0</td>\n",
       "      <td>1.0</td>\n",
       "      <td>0.000166</td>\n",
       "      <td>1.0</td>\n",
       "      <td>0.0</td>\n",
       "      <td>0.0</td>\n",
       "      <td>0.513269</td>\n",
       "      <td>0.382272</td>\n",
       "      <td>0</td>\n",
       "    </tr>\n",
       "    <tr>\n",
       "      <th>3</th>\n",
       "      <td>0.596114</td>\n",
       "      <td>0.683628</td>\n",
       "      <td>0.539134</td>\n",
       "      <td>0.646501</td>\n",
       "      <td>0.895824</td>\n",
       "      <td>0.0</td>\n",
       "      <td>0.0</td>\n",
       "      <td>0.259864</td>\n",
       "      <td>0.184872</td>\n",
       "      <td>0.0</td>\n",
       "      <td>...</td>\n",
       "      <td>0.382716</td>\n",
       "      <td>1.0</td>\n",
       "      <td>1.0</td>\n",
       "      <td>0.000000</td>\n",
       "      <td>1.0</td>\n",
       "      <td>1.0</td>\n",
       "      <td>0.0</td>\n",
       "      <td>0.415312</td>\n",
       "      <td>0.424709</td>\n",
       "      <td>0</td>\n",
       "    </tr>\n",
       "    <tr>\n",
       "      <th>4</th>\n",
       "      <td>0.497880</td>\n",
       "      <td>0.597163</td>\n",
       "      <td>0.197840</td>\n",
       "      <td>0.307750</td>\n",
       "      <td>0.877680</td>\n",
       "      <td>1.0</td>\n",
       "      <td>0.0</td>\n",
       "      <td>1.000000</td>\n",
       "      <td>0.118761</td>\n",
       "      <td>0.0</td>\n",
       "      <td>...</td>\n",
       "      <td>0.145903</td>\n",
       "      <td>1.0</td>\n",
       "      <td>0.0</td>\n",
       "      <td>0.000000</td>\n",
       "      <td>1.0</td>\n",
       "      <td>1.0</td>\n",
       "      <td>0.0</td>\n",
       "      <td>0.407809</td>\n",
       "      <td>0.618070</td>\n",
       "      <td>0</td>\n",
       "    </tr>\n",
       "  </tbody>\n",
       "</table>\n",
       "<p>5 rows × 26 columns</p>\n",
       "</div>"
      ],
      "text/plain": [
       "   EXT_SOURCE_2  EXT_SOURCE_3  EXT_SOURCE_1      TERM  DAYS_EMPLOYED  \\\n",
       "0      0.923573      0.177549      0.778428  0.526667       0.869975   \n",
       "1      0.341118      0.482907      0.580538  0.128479       0.750502   \n",
       "2      0.818464      0.681715      0.518318  0.039412       0.751117   \n",
       "3      0.596114      0.683628      0.539134  0.646501       0.895824   \n",
       "4      0.497880      0.597163      0.197840  0.307750       0.877680   \n",
       "\n",
       "   CODE_GENDER  NAME_EDUCATION_TYPE_Higher education  DAYS_FIRST_DRAWING  \\\n",
       "0          0.0                                   1.0            1.000000   \n",
       "1          1.0                                   0.0            1.000000   \n",
       "2          1.0                                   1.0            1.000000   \n",
       "3          0.0                                   0.0            0.259864   \n",
       "4          1.0                                   0.0            1.000000   \n",
       "\n",
       "   AMT_ANNUITY  OVER_EXPECT_CREDIT  ...  AMT_GOODS_PRICE  \\\n",
       "0     0.073886                 1.0  ...         0.102132   \n",
       "1     0.061443                 1.0  ...         0.034792   \n",
       "2     0.265830                 1.0  ...         0.147026   \n",
       "3     0.184872                 0.0  ...         0.382716   \n",
       "4     0.118761                 0.0  ...         0.145903   \n",
       "\n",
       "   NAME_INCOME_TYPE_Working  mode_CREDIT_ACTIVE_Closed  \\\n",
       "0                       1.0                        1.0   \n",
       "1                       1.0                        1.0   \n",
       "2                       1.0                        1.0   \n",
       "3                       1.0                        1.0   \n",
       "4                       1.0                        0.0   \n",
       "\n",
       "   mean_AMT_CREDIT_MAX_OVERDUE  NAME_FAMILY_STATUS_Married  FLAG_DOCUMENT_3  \\\n",
       "0                     0.000000                         1.0              1.0   \n",
       "1                     0.000000                         1.0              1.0   \n",
       "2                     0.000166                         1.0              0.0   \n",
       "3                     0.000000                         1.0              1.0   \n",
       "4                     0.000000                         1.0              1.0   \n",
       "\n",
       "   NAME_CONTRACT_STATUS_Refused  DAYS_ID_PUBLISH  mean_DAYS_CREDIT  prediction  \n",
       "0                           0.0         0.887175          0.654689           0  \n",
       "1                           0.0         0.774489          0.906913           0  \n",
       "2                           0.0         0.513269          0.382272           0  \n",
       "3                           0.0         0.415312          0.424709           0  \n",
       "4                           0.0         0.407809          0.618070           0  \n",
       "\n",
       "[5 rows x 26 columns]"
      ]
     },
     "execution_count": 20,
     "metadata": {},
     "output_type": "execute_result"
    }
   ],
   "source": [
    "%%time\n",
    "test_report = test_preprocess[top_features+['prediction']]\n",
    "test_report.head()"
   ]
  },
  {
   "cell_type": "code",
   "execution_count": 21,
   "id": "30c0739e-14e4-454e-a665-a1946432fba5",
   "metadata": {},
   "outputs": [
    {
     "data": {
      "text/plain": [
       "Index(['EXT_SOURCE_2', 'EXT_SOURCE_3', 'EXT_SOURCE_1', 'TERM', 'DAYS_EMPLOYED',\n",
       "       'CODE_GENDER', 'NAME_EDUCATION_TYPE_Higher education',\n",
       "       'DAYS_FIRST_DRAWING', 'AMT_ANNUITY', 'OVER_EXPECT_CREDIT', 'DAYS_BIRTH',\n",
       "       'AMT_PAYMENT', 'CNT_PAYMENT', 'FLAG_OWN_CAR',\n",
       "       'mean_AMT_CREDIT_SUM_DEBT', 'SELLERPLACE_AREA', 'AMT_GOODS_PRICE',\n",
       "       'NAME_INCOME_TYPE_Working', 'mode_CREDIT_ACTIVE_Closed',\n",
       "       'mean_AMT_CREDIT_MAX_OVERDUE', 'NAME_FAMILY_STATUS_Married',\n",
       "       'FLAG_DOCUMENT_3', 'NAME_CONTRACT_STATUS_Refused', 'DAYS_ID_PUBLISH',\n",
       "       'mean_DAYS_CREDIT', 'prediction'],\n",
       "      dtype='object')"
      ]
     },
     "execution_count": 21,
     "metadata": {},
     "output_type": "execute_result"
    }
   ],
   "source": [
    "train_report.columns"
   ]
  },
  {
   "cell_type": "code",
   "execution_count": 23,
   "id": "3182de64-e997-499c-a929-aa52a12df22f",
   "metadata": {},
   "outputs": [],
   "source": [
    "categorical_feature =train_report.filter(regex='^(NAME|CODE|OVER|FLAG)', axis=1).columns.to_list()\n",
    "numerical_feature = train_report.columns[~train_report.columns.isin(categorical_feature+['prediction'])]\n",
    "train_report[categorical_feature] = train_report[categorical_feature].astype('object')\n",
    "test_report[categorical_feature] = test_report[categorical_feature].astype('object')"
   ]
  },
  {
   "cell_type": "code",
   "execution_count": 24,
   "id": "6d035c75-d7f1-4a8a-bed7-940236468ed7",
   "metadata": {},
   "outputs": [
    {
     "data": {
      "text/plain": [
       "EXT_SOURCE_2                            float64\n",
       "EXT_SOURCE_3                            float64\n",
       "EXT_SOURCE_1                            float64\n",
       "TERM                                    float64\n",
       "DAYS_EMPLOYED                           float64\n",
       "CODE_GENDER                              object\n",
       "NAME_EDUCATION_TYPE_Higher education     object\n",
       "DAYS_FIRST_DRAWING                      float64\n",
       "AMT_ANNUITY                             float64\n",
       "OVER_EXPECT_CREDIT                       object\n",
       "DAYS_BIRTH                              float64\n",
       "AMT_PAYMENT                             float64\n",
       "CNT_PAYMENT                             float64\n",
       "FLAG_OWN_CAR                             object\n",
       "mean_AMT_CREDIT_SUM_DEBT                float64\n",
       "SELLERPLACE_AREA                        float64\n",
       "AMT_GOODS_PRICE                         float64\n",
       "NAME_INCOME_TYPE_Working                 object\n",
       "mode_CREDIT_ACTIVE_Closed               float64\n",
       "mean_AMT_CREDIT_MAX_OVERDUE             float64\n",
       "NAME_FAMILY_STATUS_Married               object\n",
       "FLAG_DOCUMENT_3                          object\n",
       "NAME_CONTRACT_STATUS_Refused             object\n",
       "DAYS_ID_PUBLISH                         float64\n",
       "mean_DAYS_CREDIT                        float64\n",
       "prediction                                int64\n",
       "dtype: object"
      ]
     },
     "execution_count": 24,
     "metadata": {},
     "output_type": "execute_result"
    }
   ],
   "source": [
    "train_report.dtypes"
   ]
  },
  {
   "cell_type": "markdown",
   "id": "f19d2151-6fcc-4ee2-9ed5-44df9aa919bb",
   "metadata": {},
   "source": [
    "### Columnmaping"
   ]
  },
  {
   "cell_type": "code",
   "execution_count": 25,
   "id": "b9d680c6-45ed-41b9-9385-b2e58c24e392",
   "metadata": {},
   "outputs": [],
   "source": [
    "column_mapping = ColumnMapping()"
   ]
  },
  {
   "cell_type": "code",
   "execution_count": 26,
   "id": "4b6111cc-23a0-49e4-a371-cc7c1c579f9a",
   "metadata": {},
   "outputs": [],
   "source": [
    "column_mapping = ColumnMapping()\n",
    "column_mapping.numerical_features = numerical_feature\n",
    "column_mapping.categorical_features = categorical_feature\n",
    "column_mapping.prediction= 'prediction'"
   ]
  },
  {
   "cell_type": "markdown",
   "id": "44020600-b073-47a7-869d-5e3e369e05ff",
   "metadata": {},
   "source": [
    "### Echantillonage "
   ]
  },
  {
   "cell_type": "code",
   "execution_count": 27,
   "id": "9df0c602-25aa-4de9-84fe-625ec02a0999",
   "metadata": {},
   "outputs": [
    {
     "data": {
      "text/plain": [
       "6.308694403413753"
      ]
     },
     "execution_count": 27,
     "metadata": {},
     "output_type": "execute_result"
    }
   ],
   "source": [
    "train_report.shape[0]/test_report.shape[0]"
   ]
  },
  {
   "cell_type": "code",
   "execution_count": 41,
   "id": "6a9f6cce-f1e6-43b0-972a-96b03762f9c2",
   "metadata": {},
   "outputs": [],
   "source": [
    "reference = train_report.sample(n=40000, replace=False, random_state=42)\n",
    "current = test_report.sample(n=40000, replace=False, random_state=42)"
   ]
  },
  {
   "cell_type": "markdown",
   "id": "e75327ae-730e-4511-9956-e8f4e80b1202",
   "metadata": {},
   "source": [
    "## Generons le rapport"
   ]
  },
  {
   "cell_type": "code",
   "execution_count": 73,
   "id": "f95ece46-d5a9-44fd-a6a3-8db27f360909",
   "metadata": {},
   "outputs": [],
   "source": [
    "report = TestSuite(tests=[\n",
    "    NoTargetPerformanceTestPreset(cat_stattest='psi' , cat_stattest_threshold=0.05)\n",
    "])\n",
    "\n",
    "report.run(reference_data=reference, current_data=current)"
   ]
  },
  {
   "cell_type": "code",
   "execution_count": 74,
   "id": "b4715492-a2c5-48ee-bbe4-6d03a5738d40",
   "metadata": {},
   "outputs": [],
   "source": [
    "report.save_html(\"datadrift-analysis-report.html\")"
   ]
  },
  {
   "cell_type": "code",
   "execution_count": null,
   "id": "de2fda9e-b16e-472f-bbbd-76d76dfffcfe",
   "metadata": {},
   "outputs": [],
   "source": []
  }
 ],
 "metadata": {
  "kernelspec": {
   "display_name": "Python 3 (ipykernel)",
   "language": "python",
   "name": "python3"
  },
  "language_info": {
   "codemirror_mode": {
    "name": "ipython",
    "version": 3
   },
   "file_extension": ".py",
   "mimetype": "text/x-python",
   "name": "python",
   "nbconvert_exporter": "python",
   "pygments_lexer": "ipython3",
   "version": "3.11.5"
  }
 },
 "nbformat": 4,
 "nbformat_minor": 5
}
